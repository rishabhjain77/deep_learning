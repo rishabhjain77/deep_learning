{
 "cells": [
  {
   "cell_type": "code",
   "execution_count": 1,
   "metadata": {},
   "outputs": [],
   "source": [
    "import cv2\n",
    "import numpy as np"
   ]
  },
  {
   "cell_type": "code",
   "execution_count": 19,
   "metadata": {},
   "outputs": [],
   "source": [
    "lowerRange = np.array([50,80,40]) #hue,saturation,value\n",
    "upperRange = np.array([105,255,255]) #range of detecting colour blue\n",
    "\n",
    "#lowerRange = np.array([33,80,40]) #hue,saturation,value\n",
    "#upperRange = np.array([102,255,255]) #includes range of greens\n",
    "kernelOpen = np.ones((5,5))\n",
    "kernelClose = np.ones((20,20))\n",
    "cam = cv2.VideoCapture(0)\n",
    "font = cv2.FONT_HERSHEY_COMPLEX\n",
    "while True:\n",
    "    ret,img = cam.read()\n",
    "    img = cv2.resize(img,(320,220))\n",
    "    \n",
    "    #convert image to HSV format(HUE,Saturation,value(brightness))\n",
    "    imgHSV = cv2.cvtColor(img,cv2.COLOR_BGR2HSV)\n",
    "    mask = cv2.inRange(imgHSV,lowerRange,upperRange)\n",
    "    maskOpen = cv2.morphologyEx(mask,cv2.MORPH_OPEN,kernelOpen) #Used to remove white noise from black bg\n",
    "    maskClose = cv2.morphologyEx(maskOpen,cv2.MORPH_CLOSE,kernelClose) #Used to remove black noise from white img\n",
    "    conts,hierarchy = cv2.findContours(maskClose.copy(),cv2.RETR_EXTERNAL,cv2.CHAIN_APPROX_SIMPLE)\n",
    "    cv2.drawContours(img,conts,-1,(0,255,0),3)\n",
    "    \n",
    "    for i in range(len(conts)):\n",
    "        x,y,w,h = cv2.boundingRect(conts[i])\n",
    "        cv2.rectangle(img,(x,y),(x+w,y+h),(255,0,0),2)\n",
    "        cv2.putText(img,str(i),(x,y+h),font,1,(0,0,255),2)\n",
    "\n",
    "    cv2.imshow(\"Original\",img)\n",
    "    cv2.imshow(\"mask\",mask)\n",
    "    cv2.imshow(\"maskOpen\",maskOpen)\n",
    "    cv2.imshow(\"maskClose\",maskClose)\n",
    "    if cv2.waitKey(1) == ord('q'):\n",
    "        break\n",
    "cam.release()\n",
    "cv2.destroyAllWindows()"
   ]
  },
  {
   "cell_type": "code",
   "execution_count": null,
   "metadata": {},
   "outputs": [],
   "source": []
  }
 ],
 "metadata": {
  "kernelspec": {
   "display_name": "Python 3",
   "language": "python",
   "name": "python3"
  },
  "language_info": {
   "codemirror_mode": {
    "name": "ipython",
    "version": 3
   },
   "file_extension": ".py",
   "mimetype": "text/x-python",
   "name": "python",
   "nbconvert_exporter": "python",
   "pygments_lexer": "ipython3",
   "version": "3.7.6"
  }
 },
 "nbformat": 4,
 "nbformat_minor": 4
}
