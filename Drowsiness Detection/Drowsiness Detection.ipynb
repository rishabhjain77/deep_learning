{
 "cells": [
  {
   "cell_type": "code",
   "execution_count": 7,
   "metadata": {},
   "outputs": [],
   "source": [
    "import numpy as np\n",
    "import cv2\n",
    "import dlib\n",
    "import imutils\n",
    "from imutils import face_utils\n",
    "import math"
   ]
  },
  {
   "cell_type": "code",
   "execution_count": 15,
   "metadata": {},
   "outputs": [],
   "source": [
    "def distance(x1,y1,x2,y2):\n",
    "    \"\"\"Calculate the distance between two points\"\"\"\n",
    "    d = math.sqrt(math.pow((x2-x1),2) + math.pow((y2-y1),2))\n",
    "    return d"
   ]
  },
  {
   "cell_type": "code",
   "execution_count": 19,
   "metadata": {},
   "outputs": [],
   "source": [
    "def EAR(land_dict):\n",
    "    \"\"\"Calculate the Eye aspect ratio\"\"\"\n",
    "    dist = {}\n",
    "    dist.update({'d1':distance(land_dict[36][0],land_dict[36][1],land_dict[39][0],land_dict[39][1])})\n",
    "    dist.update({'d2':distance(land_dict[37][0],land_dict[37][1],land_dict[41][0],land_dict[41][1])})\n",
    "    dist.update({'d3':distance(land_dict[38][0],land_dict[38][1],land_dict[40][0],land_dict[40][1])})\n",
    "    dist.update({'d4':distance(land_dict[42][0],land_dict[42][1],land_dict[45][0],land_dict[45][1])})\n",
    "    dist.update({'d5':distance(land_dict[43][0],land_dict[43][1],land_dict[47][0],land_dict[47][1])})\n",
    "    dist.update({'d6':distance(land_dict[44][0],land_dict[44][1],land_dict[46][0],land_dict[46][1])})\n",
    "    Ear1 = (dist['d2'] + dist['d3'])/(2*dist['d1'])\n",
    "    Ear2 = (dist['d5'] + dist['d6'])/(2*dist['d4'])\n",
    "    return Ear1,Ear2"
   ]
  },
  {
   "cell_type": "code",
   "execution_count": 31,
   "metadata": {},
   "outputs": [],
   "source": [
    "cam = cv2.VideoCapture(0)\n",
    "\n",
    "detector = dlib.get_frontal_face_detector() #to detect faces on the frame\n",
    "predictor = dlib.shape_predictor(\"shape_predictor_68_face_landmarks.dat\") #to detect landmarks on the face(0-67)point representation\n",
    "frame_count = 0\n",
    "while(True):\n",
    "    ret,img = cam.read()\n",
    "    grayimg = cv2.cvtColor(img,cv2.COLOR_BGR2GRAY)\n",
    "    \n",
    "    faces = detector(grayimg) #list of coordinates of a rectangle where face is\n",
    "    #for eg face = rectangles[[(342(x1), 231(y1)) (466(x2), 355(y2))]]\n",
    "    for face in faces:\n",
    "        landmarks = predictor(grayimg,face)\n",
    "        land_dict = {}\n",
    "        for i in range(36,48,1):\n",
    "            x = landmarks.part(i).x\n",
    "            y = landmarks.part(i).y\n",
    "            land_dict.update({i:[x,y]})\n",
    "            #print(x,y)\n",
    "            #cv2.circle(img,(x,y),3,(255,0,0),-1)\n",
    "        E1,E2 = EAR(land_dict)\n",
    "        #print(E1,E2)\n",
    "        if (E1 and E2) <0.25:\n",
    "            frame_count+=1\n",
    "            if frame_count>20:\n",
    "                cv2.putText(img, \"****************ALERT!****************\", (10, 30),\n",
    "                        cv2.FONT_HERSHEY_SIMPLEX, 0.7, (0, 0, 255), 2)\n",
    "                cv2.putText(img, \"****************ALERT!****************\", (10,325),\n",
    "                        cv2.FONT_HERSHEY_SIMPLEX, 0.7, (0, 0, 255), 2)\n",
    "        else:\n",
    "            frame_count = 0\n",
    "    cv2.imshow(\"Image\",img)\n",
    "    if(cv2.waitKey(1)==ord('q')):\n",
    "        break\n",
    "\n",
    "cam.release()        \n",
    "cv2.destroyAllWindows()\n",
    "\n"
   ]
  },
  {
   "cell_type": "code",
   "execution_count": null,
   "metadata": {},
   "outputs": [],
   "source": []
  },
  {
   "cell_type": "code",
   "execution_count": null,
   "metadata": {},
   "outputs": [],
   "source": []
  }
 ],
 "metadata": {
  "kernelspec": {
   "display_name": "Python 3",
   "language": "python",
   "name": "python3"
  },
  "language_info": {
   "codemirror_mode": {
    "name": "ipython",
    "version": 3
   },
   "file_extension": ".py",
   "mimetype": "text/x-python",
   "name": "python",
   "nbconvert_exporter": "python",
   "pygments_lexer": "ipython3",
   "version": "3.7.6"
  }
 },
 "nbformat": 4,
 "nbformat_minor": 4
}
