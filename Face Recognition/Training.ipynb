{
 "cells": [
  {
   "cell_type": "code",
   "execution_count": 1,
   "metadata": {},
   "outputs": [],
   "source": [
    "import cv2\n",
    "import os\n",
    "import numpy as np\n",
    "from PIL import Image"
   ]
  },
  {
   "cell_type": "code",
   "execution_count": 3,
   "metadata": {},
   "outputs": [],
   "source": [
    "recognizer = cv2.face.LBPHFaceRecognizer_create()"
   ]
  },
  {
   "cell_type": "code",
   "execution_count": 11,
   "metadata": {},
   "outputs": [],
   "source": [
    "path = \"dataset\"\n",
    "def getImageWithID(path):\n",
    "    imagePaths = [os.path.join(path,f) for f in os.listdir(path)]\n",
    "    faces = []\n",
    "    IDs = []\n",
    "    for imagepath in imagePaths:\n",
    "        faceImg = Image.open(imagepath).convert('L') #open image and convert to gray scale\n",
    "        faceNp = np.array(faceImg,'uint8')\n",
    "        ID =int(os.path.split(imagepath)[-1].split('.')[1])\n",
    "        faces.append(faceNp)\n",
    "        IDs.append(ID)\n",
    "        cv2.imshow(\"Training\",faceNp)\n",
    "        cv2.waitKey(10)\n",
    "    return np.array(IDs),faces\n",
    "\n",
    "\n",
    "Ids,faces = getImageWithID(path)\n",
    "recognizer.train(faces,Ids)\n",
    "recognizer.save('recognizer/trainingData.yml')\n",
    "cv2.destroyAllWindows()"
   ]
  },
  {
   "cell_type": "code",
   "execution_count": null,
   "metadata": {},
   "outputs": [],
   "source": []
  }
 ],
 "metadata": {
  "kernelspec": {
   "display_name": "Python 3",
   "language": "python",
   "name": "python3"
  },
  "language_info": {
   "codemirror_mode": {
    "name": "ipython",
    "version": 3
   },
   "file_extension": ".py",
   "mimetype": "text/x-python",
   "name": "python",
   "nbconvert_exporter": "python",
   "pygments_lexer": "ipython3",
   "version": "3.7.6"
  }
 },
 "nbformat": 4,
 "nbformat_minor": 4
}
